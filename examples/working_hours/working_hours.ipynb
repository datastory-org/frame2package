{
 "cells": [
  {
   "cell_type": "markdown",
   "metadata": {},
   "source": [
    "Data from: http://www.statistikdatabasen.scb.se/pxweb/sv/ssd/START__UF__UF0529/ArbTimVd/table/tableViewLayout1/?rxid=99ed2bb1-e766-428b-961c-d2d5ee5fef48.\n",
    "\n",
    "An example of dealing with datasets containing \"total\" values which results in additional datasets."
   ]
  },
  {
   "cell_type": "code",
   "execution_count": 1,
   "metadata": {},
   "outputs": [],
   "source": [
    "%load_ext autoreload\n",
    "%autoreload 2"
   ]
  },
  {
   "cell_type": "code",
   "execution_count": 2,
   "metadata": {},
   "outputs": [],
   "source": [
    "import pandas as pd\n",
    "\n",
    "import sys\n",
    "sys.path.append('../..')\n",
    "from frame2package import Frame2Package"
   ]
  },
  {
   "cell_type": "code",
   "execution_count": 3,
   "metadata": {},
   "outputs": [
    {
     "data": {
      "text/html": [
       "<div>\n",
       "<style scoped>\n",
       "    .dataframe tbody tr th:only-of-type {\n",
       "        vertical-align: middle;\n",
       "    }\n",
       "\n",
       "    .dataframe tbody tr th {\n",
       "        vertical-align: top;\n",
       "    }\n",
       "\n",
       "    .dataframe thead th {\n",
       "        text-align: right;\n",
       "    }\n",
       "</style>\n",
       "<table border=\"1\" class=\"dataframe\">\n",
       "  <thead>\n",
       "    <tr style=\"text-align: right;\">\n",
       "      <th></th>\n",
       "      <th>Antal timmar</th>\n",
       "      <th>världsdel</th>\n",
       "      <th>kön</th>\n",
       "      <th>Svarsfördelning, procent 2009</th>\n",
       "      <th>Felmarginal, procent 2009</th>\n",
       "      <th>Svarsfördelning, antal 2009</th>\n",
       "    </tr>\n",
       "  </thead>\n",
       "  <tbody>\n",
       "    <tr>\n",
       "      <th>0</th>\n",
       "      <td>35 timmar eller mer</td>\n",
       "      <td>Norden</td>\n",
       "      <td>män</td>\n",
       "      <td>92</td>\n",
       "      <td>4</td>\n",
       "      <td>3029</td>\n",
       "    </tr>\n",
       "    <tr>\n",
       "      <th>1</th>\n",
       "      <td>35 timmar eller mer</td>\n",
       "      <td>Norden</td>\n",
       "      <td>kvinnor</td>\n",
       "      <td>74</td>\n",
       "      <td>7</td>\n",
       "      <td>3086</td>\n",
       "    </tr>\n",
       "    <tr>\n",
       "      <th>2</th>\n",
       "      <td>35 timmar eller mer</td>\n",
       "      <td>Norden</td>\n",
       "      <td>män och kvinnor</td>\n",
       "      <td>82</td>\n",
       "      <td>4</td>\n",
       "      <td>6118</td>\n",
       "    </tr>\n",
       "  </tbody>\n",
       "</table>\n",
       "</div>"
      ],
      "text/plain": [
       "          Antal timmar världsdel              kön  \\\n",
       "0  35 timmar eller mer    Norden              män   \n",
       "1  35 timmar eller mer    Norden          kvinnor   \n",
       "2  35 timmar eller mer    Norden  män och kvinnor   \n",
       "\n",
       "  Svarsfördelning, procent 2009 Felmarginal, procent 2009  \\\n",
       "0                            92                         4   \n",
       "1                            74                         7   \n",
       "2                            82                         4   \n",
       "\n",
       "  Svarsfördelning, antal 2009  \n",
       "0                        3029  \n",
       "1                        3086  \n",
       "2                        6118  "
      ]
     },
     "execution_count": 3,
     "metadata": {},
     "output_type": "execute_result"
    }
   ],
   "source": [
    "df = pd.read_csv('data.csv', encoding='latin1', skiprows=1)\n",
    "df.head(3)"
   ]
  },
  {
   "cell_type": "code",
   "execution_count": 4,
   "metadata": {},
   "outputs": [],
   "source": [
    "df = df.rename(columns={\n",
    "    'Antal timmar': 'no_hours',\n",
    "    'världsdel': 'region',\n",
    "    'kön': 'sex',\n",
    "    'Svarsfördelning, procent 2009': 'percent',\n",
    "    'Felmarginal, procent 2009': 'error_margin',\n",
    "    'Svarsfördelning, antal 2009': 'people'\n",
    "})"
   ]
  },
  {
   "cell_type": "code",
   "execution_count": 5,
   "metadata": {},
   "outputs": [],
   "source": [
    "#percent--by--no_hours--region--sex\n",
    "#percent--by--no_hours--region"
   ]
  },
  {
   "cell_type": "code",
   "execution_count": 6,
   "metadata": {},
   "outputs": [
    {
     "data": {
      "text/html": [
       "<div>\n",
       "<style scoped>\n",
       "    .dataframe tbody tr th:only-of-type {\n",
       "        vertical-align: middle;\n",
       "    }\n",
       "\n",
       "    .dataframe tbody tr th {\n",
       "        vertical-align: top;\n",
       "    }\n",
       "\n",
       "    .dataframe thead th {\n",
       "        text-align: right;\n",
       "    }\n",
       "</style>\n",
       "<table border=\"1\" class=\"dataframe\">\n",
       "  <thead>\n",
       "    <tr style=\"text-align: right;\">\n",
       "      <th></th>\n",
       "      <th>no_hours</th>\n",
       "      <th>region</th>\n",
       "      <th>sex</th>\n",
       "      <th>percent</th>\n",
       "      <th>error_margin</th>\n",
       "      <th>people</th>\n",
       "    </tr>\n",
       "  </thead>\n",
       "  <tbody>\n",
       "    <tr>\n",
       "      <th>0</th>\n",
       "      <td>35 timmar eller mer</td>\n",
       "      <td>Norden</td>\n",
       "      <td>män</td>\n",
       "      <td>92</td>\n",
       "      <td>4</td>\n",
       "      <td>3029</td>\n",
       "    </tr>\n",
       "    <tr>\n",
       "      <th>1</th>\n",
       "      <td>35 timmar eller mer</td>\n",
       "      <td>Norden</td>\n",
       "      <td>kvinnor</td>\n",
       "      <td>74</td>\n",
       "      <td>7</td>\n",
       "      <td>3086</td>\n",
       "    </tr>\n",
       "    <tr>\n",
       "      <th>2</th>\n",
       "      <td>35 timmar eller mer</td>\n",
       "      <td>Norden</td>\n",
       "      <td>män och kvinnor</td>\n",
       "      <td>82</td>\n",
       "      <td>4</td>\n",
       "      <td>6118</td>\n",
       "    </tr>\n",
       "  </tbody>\n",
       "</table>\n",
       "</div>"
      ],
      "text/plain": [
       "              no_hours  region              sex percent error_margin people\n",
       "0  35 timmar eller mer  Norden              män      92            4   3029\n",
       "1  35 timmar eller mer  Norden          kvinnor      74            7   3086\n",
       "2  35 timmar eller mer  Norden  män och kvinnor      82            4   6118"
      ]
     },
     "execution_count": 6,
     "metadata": {},
     "output_type": "execute_result"
    }
   ],
   "source": [
    "df.head(3)"
   ]
  },
  {
   "cell_type": "code",
   "execution_count": 7,
   "metadata": {},
   "outputs": [],
   "source": [
    "# Map all variables and their types\n",
    "concepts = [\n",
    "    {'concept': 'region', 'concept_type': 'entity_domain'},\n",
    "    {'concept': 'sex', 'concept_type': 'entity_domain'},\n",
    "    {'concept': 'no_hours', 'concept_type': 'entity_domain'},\n",
    "    {'concept': 'people', 'concept_type': 'measure'},\n",
    "    {'concept': 'error_margin', 'concept_type': 'measure'},\n",
    "    {'concept': 'percent', 'concept_type': 'measure'},\n",
    "]"
   ]
  },
  {
   "cell_type": "code",
   "execution_count": 8,
   "metadata": {},
   "outputs": [],
   "source": [
    "f2p = Frame2Package(df, concepts, totals={'sex': 'män och kvinnor'})"
   ]
  },
  {
   "cell_type": "code",
   "execution_count": 9,
   "metadata": {},
   "outputs": [
    {
     "name": "stderr",
     "output_type": "stream",
     "text": [
      "100%|██████████| 10/10 [00:00<00:00, 101.55it/s]\n"
     ]
    }
   ],
   "source": [
    "f2p.to_package('ddf')"
   ]
  },
  {
   "cell_type": "code",
   "execution_count": null,
   "metadata": {},
   "outputs": [],
   "source": []
  }
 ],
 "metadata": {
  "kernelspec": {
   "display_name": "Python 3",
   "language": "python",
   "name": "python3"
  },
  "language_info": {
   "codemirror_mode": {
    "name": "ipython",
    "version": 3
   },
   "file_extension": ".py",
   "mimetype": "text/x-python",
   "name": "python",
   "nbconvert_exporter": "python",
   "pygments_lexer": "ipython3",
   "version": "3.7.1"
  }
 },
 "nbformat": 4,
 "nbformat_minor": 2
}
