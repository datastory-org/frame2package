{
 "cells": [
  {
   "cell_type": "code",
   "execution_count": 1,
   "metadata": {},
   "outputs": [],
   "source": [
    "%load_ext autoreload\n",
    "%autoreload 2"
   ]
  },
  {
   "cell_type": "code",
   "execution_count": 2,
   "metadata": {},
   "outputs": [],
   "source": [
    "import pandas as pd\n",
    "import xml.etree.ElementTree as ET\n",
    "\n",
    "import sys\n",
    "sys.path.append('../..')\n",
    "from frame2package import Frame2Package"
   ]
  },
  {
   "cell_type": "code",
   "execution_count": 3,
   "metadata": {},
   "outputs": [],
   "source": [
    "def process_xml(text):\n",
    "    data = []\n",
    "    tree = ET.parse(text)\n",
    "    root = tree.getroot()\n",
    "    for s in root.findall('skola'):\n",
    "        school = s.attrib\n",
    "        for prop in s:\n",
    "            school[prop.tag] = prop.text\n",
    "        data.append(school)\n",
    "    \n",
    "    return data"
   ]
  },
  {
   "cell_type": "code",
   "execution_count": 4,
   "metadata": {},
   "outputs": [],
   "source": [
    "df = pd.DataFrame(process_xml('exp_gybetyg_lgy11_skola_2018.xml'))\n",
    "df2 = pd.DataFrame(process_xml('exp_kursprov_lgy11_skola_VT18.xml'))"
   ]
  },
  {
   "cell_type": "code",
   "execution_count": 5,
   "metadata": {},
   "outputs": [],
   "source": [
    "concepts = [\n",
    "    {'concept': 'andel_med_examen', 'concept_type': 'measure'},\n",
    "    {'concept': 'andel_med_gr_behorighet', 'concept_type': 'measure'},\n",
    "    {'concept': 'andel_med_studiebevis', 'concept_type': 'measure'},\n",
    "    {'concept': 'andel_med_utokat_prog', 'concept_type': 'measure'},\n",
    "    {'concept': 'andel_minst_e_eng5', 'concept_type': 'measure'},\n",
    "    {'concept': 'andel_minst_e_gyarb', 'concept_type': 'measure'},\n",
    "    {'concept': 'andel_minst_e_hist1', 'concept_type': 'measure'},\n",
    "    {'concept': 'andel_minst_e_idr1', 'concept_type': 'measure'},\n",
    "    {'concept': 'andel_minst_e_ma1', 'concept_type': 'measure'},\n",
    "    {'concept': 'andel_minst_e_na1', 'concept_type': 'measure'},\n",
    "    {'concept': 'andel_minst_e_re1', 'concept_type': 'measure'},\n",
    "    {'concept': 'andel_minst_e_sam1', 'concept_type': 'measure'},\n",
    "    {'concept': 'andel_minst_e_sv1', 'concept_type': 'measure'},\n",
    "    {'concept': 'andel_minst_e_sva1', 'concept_type': 'measure'},\n",
    "    {'concept': 'antal_elever', 'concept_type': 'measure'},\n",
    "    {'concept': 'gbp', 'concept_type': 'measure'},\n",
    "    {'concept': 'gbp_examen', 'concept_type': 'measure'},\n",
    "    #{'concept': 'huvudman', 'concept_type': 'entity_domain'},\n",
    "    #{'concept': 'huvudman_namn', 'concept_type': 'entity_domain'},\n",
    "    #{'concept': 'kommun', 'concept_type': 'entity_domain'},\n",
    "    {'concept': 'program', 'concept_type': 'entity_domain'},\n",
    "    #{'concept': 'skola', 'concept_type': 'entity_domain'},\n",
    "    {'concept': 'skolkod', 'concept_type': 'entity_domain'}\n",
    "]\n",
    "\n",
    "df = df[[x['concept'] for x in concepts]]"
   ]
  },
  {
   "cell_type": "code",
   "execution_count": 6,
   "metadata": {},
   "outputs": [],
   "source": [
    "concepts2 = [\n",
    "    {'concept': 'andel_a', 'concept_type': 'measure'},\n",
    "    {'concept': 'andel_b', 'concept_type': 'measure'},\n",
    "    {'concept': 'andel_c', 'concept_type': 'measure'},\n",
    "    {'concept': 'andel_d', 'concept_type': 'measure'},\n",
    "    {'concept': 'andel_e', 'concept_type': 'measure'},\n",
    "    {'concept': 'andel_f', 'concept_type': 'measure'},\n",
    "    #{'concept': 'antal_elever', 'concept_type': 'measure'},\n",
    "    {'concept': 'gnm_betp', 'concept_type': 'measure'},\n",
    "    #{'concept': 'huvudman', 'concept_type': 'entity_domain'},\n",
    "    #{'concept': 'huvudman_namn', 'concept_type': 'entity_domain'},\n",
    "    #{'concept': 'kommun_namn', 'concept_type': 'entity_domain'},\n",
    "    {'concept': 'program', 'concept_type': 'entity_domain'},\n",
    "    {'concept': 'provnamn', 'concept_type': 'entity_domain'},\n",
    "    {'concept': 'skol_kod', 'concept_type': 'entity_domain'},\n",
    "    #{'concept': 'skol_namn', 'concept_type': 'entity_domain'}\n",
    "]\n",
    "\n",
    "df2 = df2[[x['concept'] for x in concepts2]]"
   ]
  },
  {
   "cell_type": "code",
   "execution_count": 7,
   "metadata": {},
   "outputs": [],
   "source": [
    "f2p = Frame2Package()"
   ]
  },
  {
   "cell_type": "code",
   "execution_count": 8,
   "metadata": {},
   "outputs": [],
   "source": [
    "f2p.add_data(df, concepts, totals={'program': 'Nationella program'})"
   ]
  },
  {
   "cell_type": "code",
   "execution_count": 9,
   "metadata": {},
   "outputs": [],
   "source": [
    "f2p.add_data(df2, concepts2)"
   ]
  },
  {
   "cell_type": "code",
   "execution_count": 10,
   "metadata": {},
   "outputs": [
    {
     "name": "stderr",
     "output_type": "stream",
     "text": [
      "100%|██████████| 46/46 [00:25<00:00,  2.10it/s]\n"
     ]
    }
   ],
   "source": [
    "f2p.to_package('ddf')"
   ]
  },
  {
   "cell_type": "code",
   "execution_count": null,
   "metadata": {},
   "outputs": [],
   "source": []
  }
 ],
 "metadata": {
  "kernelspec": {
   "display_name": "Python 3",
   "language": "python",
   "name": "python3"
  },
  "language_info": {
   "codemirror_mode": {
    "name": "ipython",
    "version": 3
   },
   "file_extension": ".py",
   "mimetype": "text/x-python",
   "name": "python",
   "nbconvert_exporter": "python",
   "pygments_lexer": "ipython3",
   "version": "3.7.1"
  }
 },
 "nbformat": 4,
 "nbformat_minor": 2
}
