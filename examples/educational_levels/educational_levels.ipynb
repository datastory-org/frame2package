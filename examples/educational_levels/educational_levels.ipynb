{
 "cells": [
  {
   "cell_type": "markdown",
   "metadata": {},
   "source": [
    "This example loads data on educational levels from Statistics Sweden, specifically [this table](http://www.statistikdatabasen.scb.se/pxweb/sv/ssd/START__UF__UF0506/Utbildning/?rxid=99ed2bb1-e766-428b-961c-d2d5ee5fef48). The data format is already quite straightforward, it just needs some basic reformatting."
   ]
  },
  {
   "cell_type": "code",
   "execution_count": 1,
   "metadata": {},
   "outputs": [],
   "source": [
    "import pandas as pd\n",
    "\n",
    "import sys\n",
    "sys.path.append('../..')\n",
    "from frame2package import Frame2Package"
   ]
  },
  {
   "cell_type": "code",
   "execution_count": 2,
   "metadata": {},
   "outputs": [
    {
     "data": {
      "text/html": [
       "<div>\n",
       "<style scoped>\n",
       "    .dataframe tbody tr th:only-of-type {\n",
       "        vertical-align: middle;\n",
       "    }\n",
       "\n",
       "    .dataframe tbody tr th {\n",
       "        vertical-align: top;\n",
       "    }\n",
       "\n",
       "    .dataframe thead th {\n",
       "        text-align: right;\n",
       "    }\n",
       "</style>\n",
       "<table border=\"1\" class=\"dataframe\">\n",
       "  <thead>\n",
       "    <tr style=\"text-align: right;\">\n",
       "      <th></th>\n",
       "      <th>region</th>\n",
       "      <th>ålder</th>\n",
       "      <th>utbildningsnivå</th>\n",
       "      <th>kön</th>\n",
       "      <th>2010</th>\n",
       "      <th>2011</th>\n",
       "      <th>2012</th>\n",
       "      <th>2013</th>\n",
       "      <th>2014</th>\n",
       "      <th>2015</th>\n",
       "      <th>2016</th>\n",
       "      <th>2017</th>\n",
       "    </tr>\n",
       "  </thead>\n",
       "  <tbody>\n",
       "    <tr>\n",
       "      <th>0</th>\n",
       "      <td>01 Stockholms län</td>\n",
       "      <td>16-24 år</td>\n",
       "      <td>förgymnasial utbildning kortare än 9 år</td>\n",
       "      <td>män</td>\n",
       "      <td>807</td>\n",
       "      <td>808</td>\n",
       "      <td>805</td>\n",
       "      <td>831</td>\n",
       "      <td>874</td>\n",
       "      <td>838</td>\n",
       "      <td>882</td>\n",
       "      <td>996</td>\n",
       "    </tr>\n",
       "    <tr>\n",
       "      <th>1</th>\n",
       "      <td>01 Stockholms län</td>\n",
       "      <td>16-24 år</td>\n",
       "      <td>förgymnasial utbildning kortare än 9 år</td>\n",
       "      <td>kvinnor</td>\n",
       "      <td>887</td>\n",
       "      <td>815</td>\n",
       "      <td>769</td>\n",
       "      <td>702</td>\n",
       "      <td>677</td>\n",
       "      <td>608</td>\n",
       "      <td>650</td>\n",
       "      <td>638</td>\n",
       "    </tr>\n",
       "    <tr>\n",
       "      <th>2</th>\n",
       "      <td>01 Stockholms län</td>\n",
       "      <td>16-24 år</td>\n",
       "      <td>förgymnasial utbildning, 9 (10) år</td>\n",
       "      <td>män</td>\n",
       "      <td>48968</td>\n",
       "      <td>48228</td>\n",
       "      <td>46618</td>\n",
       "      <td>44538</td>\n",
       "      <td>44358</td>\n",
       "      <td>43536</td>\n",
       "      <td>44105</td>\n",
       "      <td>44874</td>\n",
       "    </tr>\n",
       "  </tbody>\n",
       "</table>\n",
       "</div>"
      ],
      "text/plain": [
       "              region     ålder                          utbildningsnivå  \\\n",
       "0  01 Stockholms län  16-24 år  förgymnasial utbildning kortare än 9 år   \n",
       "1  01 Stockholms län  16-24 år  förgymnasial utbildning kortare än 9 år   \n",
       "2  01 Stockholms län  16-24 år       förgymnasial utbildning, 9 (10) år   \n",
       "\n",
       "       kön   2010   2011   2012   2013   2014   2015   2016   2017  \n",
       "0      män    807    808    805    831    874    838    882    996  \n",
       "1  kvinnor    887    815    769    702    677    608    650    638  \n",
       "2      män  48968  48228  46618  44538  44358  43536  44105  44874  "
      ]
     },
     "execution_count": 2,
     "metadata": {},
     "output_type": "execute_result"
    }
   ],
   "source": [
    "df = pd.read_csv('data.csv', encoding='latin1', skiprows=1)\n",
    "df.head(3)"
   ]
  },
  {
   "cell_type": "code",
   "execution_count": 3,
   "metadata": {},
   "outputs": [],
   "source": [
    "# Place the years in a column\n",
    "df = df.melt(id_vars=['region', 'ålder', 'utbildningsnivå', 'kön'],\n",
    "             value_vars=[str(x) for x in range(2010, 2018)],\n",
    "             var_name=['år'], value_name='antal')"
   ]
  },
  {
   "cell_type": "code",
   "execution_count": 4,
   "metadata": {},
   "outputs": [],
   "source": [
    "df = df.rename(columns={\n",
    "    'ålder': 'age',\n",
    "    'utbildningsnivå': 'edu_level',\n",
    "    'kön': 'sex',\n",
    "    'år': 'year',\n",
    "    'antal': 'people'\n",
    "})"
   ]
  },
  {
   "cell_type": "code",
   "execution_count": 5,
   "metadata": {},
   "outputs": [
    {
     "data": {
      "text/html": [
       "<div>\n",
       "<style scoped>\n",
       "    .dataframe tbody tr th:only-of-type {\n",
       "        vertical-align: middle;\n",
       "    }\n",
       "\n",
       "    .dataframe tbody tr th {\n",
       "        vertical-align: top;\n",
       "    }\n",
       "\n",
       "    .dataframe thead th {\n",
       "        text-align: right;\n",
       "    }\n",
       "</style>\n",
       "<table border=\"1\" class=\"dataframe\">\n",
       "  <thead>\n",
       "    <tr style=\"text-align: right;\">\n",
       "      <th></th>\n",
       "      <th>region</th>\n",
       "      <th>age</th>\n",
       "      <th>edu_level</th>\n",
       "      <th>sex</th>\n",
       "      <th>year</th>\n",
       "      <th>people</th>\n",
       "    </tr>\n",
       "  </thead>\n",
       "  <tbody>\n",
       "    <tr>\n",
       "      <th>0</th>\n",
       "      <td>01 Stockholms län</td>\n",
       "      <td>16-24 år</td>\n",
       "      <td>förgymnasial utbildning kortare än 9 år</td>\n",
       "      <td>män</td>\n",
       "      <td>2010</td>\n",
       "      <td>807</td>\n",
       "    </tr>\n",
       "    <tr>\n",
       "      <th>1</th>\n",
       "      <td>01 Stockholms län</td>\n",
       "      <td>16-24 år</td>\n",
       "      <td>förgymnasial utbildning kortare än 9 år</td>\n",
       "      <td>kvinnor</td>\n",
       "      <td>2010</td>\n",
       "      <td>887</td>\n",
       "    </tr>\n",
       "    <tr>\n",
       "      <th>2</th>\n",
       "      <td>01 Stockholms län</td>\n",
       "      <td>16-24 år</td>\n",
       "      <td>förgymnasial utbildning, 9 (10) år</td>\n",
       "      <td>män</td>\n",
       "      <td>2010</td>\n",
       "      <td>48968</td>\n",
       "    </tr>\n",
       "  </tbody>\n",
       "</table>\n",
       "</div>"
      ],
      "text/plain": [
       "              region       age                                edu_level  \\\n",
       "0  01 Stockholms län  16-24 år  förgymnasial utbildning kortare än 9 år   \n",
       "1  01 Stockholms län  16-24 år  förgymnasial utbildning kortare än 9 år   \n",
       "2  01 Stockholms län  16-24 år       förgymnasial utbildning, 9 (10) år   \n",
       "\n",
       "       sex  year  people  \n",
       "0      män  2010     807  \n",
       "1  kvinnor  2010     887  \n",
       "2      män  2010   48968  "
      ]
     },
     "execution_count": 5,
     "metadata": {},
     "output_type": "execute_result"
    }
   ],
   "source": [
    "df.head(3)"
   ]
  },
  {
   "cell_type": "code",
   "execution_count": 6,
   "metadata": {},
   "outputs": [],
   "source": [
    "# Map all variables and their types\n",
    "concepts = [\n",
    "    {'concept': 'region', 'concept_type': 'entity_domain'},\n",
    "    {'concept': 'age', 'concept_type': 'entity_domain'},\n",
    "    {'concept': 'edu_level', 'concept_type': 'entity_domain'},\n",
    "    {'concept': 'sex', 'concept_type': 'entity_domain'},\n",
    "    {'concept': 'year', 'concept_type': 'time'},\n",
    "    {'concept': 'people', 'concept_type': 'measure'}\n",
    "]"
   ]
  },
  {
   "cell_type": "code",
   "execution_count": 7,
   "metadata": {},
   "outputs": [
    {
     "name": "stderr",
     "output_type": "stream",
     "text": [
      "100%|██████████| 6/6 [00:00<00:00, 18.77it/s]\n"
     ]
    }
   ],
   "source": [
    "# Convert to a data package\n",
    "f2p = Frame2Package()\n",
    "f2p.add_data(df, concepts)\n",
    "f2p.to_package('ddf')"
   ]
  },
  {
   "cell_type": "code",
   "execution_count": null,
   "metadata": {},
   "outputs": [],
   "source": []
  }
 ],
 "metadata": {
  "kernelspec": {
   "display_name": "Python 3",
   "language": "python",
   "name": "python3"
  },
  "language_info": {
   "codemirror_mode": {
    "name": "ipython",
    "version": 3
   },
   "file_extension": ".py",
   "mimetype": "text/x-python",
   "name": "python",
   "nbconvert_exporter": "python",
   "pygments_lexer": "ipython3",
   "version": "3.7.1"
  }
 },
 "nbformat": 4,
 "nbformat_minor": 2
}
